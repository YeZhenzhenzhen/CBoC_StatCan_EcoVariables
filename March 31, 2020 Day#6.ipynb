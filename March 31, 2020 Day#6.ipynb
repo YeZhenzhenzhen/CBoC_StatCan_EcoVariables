{
 "cells": [
  {
   "cell_type": "markdown",
   "metadata": {},
   "source": [
    "## Learning Materials\n",
    "https://stats-can.readthedocs.io/en/latest/"
   ]
  },
  {
   "cell_type": "code",
   "execution_count": 1,
   "metadata": {
    "scrolled": true
   },
   "outputs": [
    {
     "name": "stdout",
     "output_type": "stream",
     "text": [
      "Collecting package metadata (current_repodata.json): ...working... done\n",
      "Solving environment: ...working... done\n",
      "\n",
      "# All requested packages already installed.\n",
      "\n",
      "\n",
      "Note: you may need to restart the kernel to use updated packages.\n"
     ]
    }
   ],
   "source": [
    "conda install -c ian.e.preston stats_can"
   ]
  },
  {
   "cell_type": "code",
   "execution_count": 2,
   "metadata": {},
   "outputs": [],
   "source": [
    "import requests \n",
    "import pandas as pd\n",
    "from stats_can import StatsCan\n",
    "#what does the command below do?\n",
    "sc = StatsCan()"
   ]
  },
  {
   "cell_type": "code",
   "execution_count": 3,
   "metadata": {},
   "outputs": [],
   "source": [
    "sc = StatsCan(data_folder=\"C:/Users/ye/Desktop/Zhenzhen/Python\")"
   ]
  },
  {
   "cell_type": "markdown",
   "metadata": {},
   "source": [
    "## Canadian National Accounts- GDP\n",
    "https://www150.statcan.gc.ca/n1/pub/13-607-x/2016001/230-eng.htm\n",
    "\n",
    "Frequency: Monthly\n",
    "\n",
    "Table: 36-10-0434-01 (formerly CANSIM 379-0031)\n",
    "\n",
    "Geography: Canada"
   ]
  },
  {
   "cell_type": "code",
   "execution_count": 4,
   "metadata": {},
   "outputs": [],
   "source": [
    "url='https://www150.statcan.gc.ca/t1/wds/rest/getSeriesInfoFromVector'\n",
    "r=requests.get(url, allow_redirects=True)\n",
    "df = sc.vectors_to_df([\"v65201210\", \"v65201229\",\"v65201236\",\"v65201263\", \"v65201419\",\"v65201468\"])"
   ]
  },
  {
   "cell_type": "code",
   "execution_count": 5,
   "metadata": {},
   "outputs": [],
   "source": [
    "#Yup, I'm only interested in ALL, Agriculture, Mining,Manufacturing ,Real estate, acoomodation\n",
    "#print(df.v65201210, df.v65201229, df.v65201236, df.v65201263, df.v65201419, df.v65201468)"
   ]
  },
  {
   "cell_type": "markdown",
   "metadata": {},
   "source": [
    "## Today's task \n",
    "1) Rename vectors so that you don't need to check them (You can refer the csv table \"2 digit NAICS_Vectors_Monthly Seasonal Chained 2012_ Table 3610043401-eng (1)\" \n",
    "\n",
    "2) Calculate rates \n",
    "     a. Year over year\n",
    "     b. Month over month \n",
    "     c. Percentages  -evey 2-digit NAICS over total industry GDP "
   ]
  },
  {
   "cell_type": "code",
   "execution_count": 6,
   "metadata": {},
   "outputs": [],
   "source": [
    "# Syntax: DataFrame.rename(mapper=None, index=None, columns=None, axis=None, copy=True, inplace=False, level=None)\n",
    "\n",
    "df_n=df.rename(columns={\"v65201210\":\"allindustries\", \"v65201229\":\"affh\",\"v65201236\":\"mining\",\"v65201263\":\"manufacturing\", \"v65201419\":\"realestate\",\"v65201468\":\"accomfood\"}, inplace=True)"
   ]
  },
  {
   "cell_type": "code",
   "execution_count": 7,
   "metadata": {},
   "outputs": [
    {
     "name": "stdout",
     "output_type": "stream",
     "text": [
      "None\n"
     ]
    }
   ],
   "source": [
    "print(df_n)"
   ]
  },
  {
   "cell_type": "markdown",
   "metadata": {},
   "source": [
    "## Questions: Why it doesn't display the reassigned file?"
   ]
  },
  {
   "cell_type": "code",
   "execution_count": 8,
   "metadata": {},
   "outputs": [
    {
     "name": "stdout",
     "output_type": "stream",
     "text": [
      "            allindustries     affh    mining  manufacturing  realestate  \\\n",
      "REF_DATE                                                                  \n",
      "1997-01-01      1146254.0  24156.0   99558.0       165474.0    128575.0   \n",
      "1997-02-01      1153493.0  24014.0  101126.0       167389.0    128350.0   \n",
      "1997-03-01      1153375.0  24020.0  102196.0       165776.0    128312.0   \n",
      "1997-04-01      1161196.0  24223.0  103835.0       168419.0    128164.0   \n",
      "1997-05-01      1165328.0  24232.0  101294.0       169988.0    128223.0   \n",
      "...                   ...      ...       ...            ...         ...   \n",
      "2019-08-01      1978704.0  40687.0  146252.0       201539.0    252316.0   \n",
      "2019-09-01      1979240.0  40405.0  145859.0       200747.0    252986.0   \n",
      "2019-10-01      1977484.0  40248.0  146343.0       198886.0    253420.0   \n",
      "2019-11-01      1978522.0  40076.0  144032.0       198527.0    253902.0   \n",
      "2019-12-01      1985301.0  40058.0  145909.0       199234.0    254294.0   \n",
      "\n",
      "            accomfood  \n",
      "REF_DATE               \n",
      "1997-01-01    27361.0  \n",
      "1997-02-01    27627.0  \n",
      "1997-03-01    27696.0  \n",
      "1997-04-01    27802.0  \n",
      "1997-05-01    27877.0  \n",
      "...               ...  \n",
      "2019-08-01    44878.0  \n",
      "2019-09-01    44930.0  \n",
      "2019-10-01    44959.0  \n",
      "2019-11-01    45202.0  \n",
      "2019-12-01    45160.0  \n",
      "\n",
      "[276 rows x 6 columns]\n"
     ]
    }
   ],
   "source": [
    "print(df)"
   ]
  },
  {
   "cell_type": "markdown",
   "metadata": {},
   "source": [
    "## Task 2: Calculate rates \n",
    "a. Year over year \n",
    "b. Month over month \n",
    "c. Percentages -evey 2-digit NAICS over total industry GDP"
   ]
  },
  {
   "cell_type": "code",
   "execution_count": 9,
   "metadata": {},
   "outputs": [
    {
     "data": {
      "text/html": [
       "<div>\n",
       "<style scoped>\n",
       "    .dataframe tbody tr th:only-of-type {\n",
       "        vertical-align: middle;\n",
       "    }\n",
       "\n",
       "    .dataframe tbody tr th {\n",
       "        vertical-align: top;\n",
       "    }\n",
       "\n",
       "    .dataframe thead th {\n",
       "        text-align: right;\n",
       "    }\n",
       "</style>\n",
       "<table border=\"1\" class=\"dataframe\">\n",
       "  <thead>\n",
       "    <tr style=\"text-align: right;\">\n",
       "      <th></th>\n",
       "      <th>allindustries</th>\n",
       "      <th>affh</th>\n",
       "      <th>mining</th>\n",
       "      <th>manufacturing</th>\n",
       "      <th>realestate</th>\n",
       "      <th>accomfood</th>\n",
       "    </tr>\n",
       "    <tr>\n",
       "      <th>REF_DATE</th>\n",
       "      <th></th>\n",
       "      <th></th>\n",
       "      <th></th>\n",
       "      <th></th>\n",
       "      <th></th>\n",
       "      <th></th>\n",
       "    </tr>\n",
       "  </thead>\n",
       "  <tbody>\n",
       "    <tr>\n",
       "      <td>1997-01-01</td>\n",
       "      <td>NaN</td>\n",
       "      <td>NaN</td>\n",
       "      <td>NaN</td>\n",
       "      <td>NaN</td>\n",
       "      <td>NaN</td>\n",
       "      <td>NaN</td>\n",
       "    </tr>\n",
       "    <tr>\n",
       "      <td>1997-02-01</td>\n",
       "      <td>0.006315</td>\n",
       "      <td>-0.005878</td>\n",
       "      <td>0.015750</td>\n",
       "      <td>0.011573</td>\n",
       "      <td>-0.001750</td>\n",
       "      <td>0.009722</td>\n",
       "    </tr>\n",
       "    <tr>\n",
       "      <td>1997-03-01</td>\n",
       "      <td>-0.000102</td>\n",
       "      <td>0.000250</td>\n",
       "      <td>0.010581</td>\n",
       "      <td>-0.009636</td>\n",
       "      <td>-0.000296</td>\n",
       "      <td>0.002498</td>\n",
       "    </tr>\n",
       "    <tr>\n",
       "      <td>1997-04-01</td>\n",
       "      <td>0.006781</td>\n",
       "      <td>0.008451</td>\n",
       "      <td>0.016038</td>\n",
       "      <td>0.015943</td>\n",
       "      <td>-0.001153</td>\n",
       "      <td>0.003827</td>\n",
       "    </tr>\n",
       "    <tr>\n",
       "      <td>1997-05-01</td>\n",
       "      <td>0.003558</td>\n",
       "      <td>0.000372</td>\n",
       "      <td>-0.024472</td>\n",
       "      <td>0.009316</td>\n",
       "      <td>0.000460</td>\n",
       "      <td>0.002698</td>\n",
       "    </tr>\n",
       "    <tr>\n",
       "      <td>...</td>\n",
       "      <td>...</td>\n",
       "      <td>...</td>\n",
       "      <td>...</td>\n",
       "      <td>...</td>\n",
       "      <td>...</td>\n",
       "      <td>...</td>\n",
       "    </tr>\n",
       "    <tr>\n",
       "      <td>2019-08-01</td>\n",
       "      <td>0.001454</td>\n",
       "      <td>-0.001987</td>\n",
       "      <td>-0.000171</td>\n",
       "      <td>0.008199</td>\n",
       "      <td>0.003029</td>\n",
       "      <td>0.004139</td>\n",
       "    </tr>\n",
       "    <tr>\n",
       "      <td>2019-09-01</td>\n",
       "      <td>0.000271</td>\n",
       "      <td>-0.006931</td>\n",
       "      <td>-0.002687</td>\n",
       "      <td>-0.003930</td>\n",
       "      <td>0.002655</td>\n",
       "      <td>0.001159</td>\n",
       "    </tr>\n",
       "    <tr>\n",
       "      <td>2019-10-01</td>\n",
       "      <td>-0.000887</td>\n",
       "      <td>-0.003886</td>\n",
       "      <td>0.003318</td>\n",
       "      <td>-0.009270</td>\n",
       "      <td>0.001716</td>\n",
       "      <td>0.000645</td>\n",
       "    </tr>\n",
       "    <tr>\n",
       "      <td>2019-11-01</td>\n",
       "      <td>0.000525</td>\n",
       "      <td>-0.004274</td>\n",
       "      <td>-0.015792</td>\n",
       "      <td>-0.001805</td>\n",
       "      <td>0.001902</td>\n",
       "      <td>0.005405</td>\n",
       "    </tr>\n",
       "    <tr>\n",
       "      <td>2019-12-01</td>\n",
       "      <td>0.003426</td>\n",
       "      <td>-0.000449</td>\n",
       "      <td>0.013032</td>\n",
       "      <td>0.003561</td>\n",
       "      <td>0.001544</td>\n",
       "      <td>-0.000929</td>\n",
       "    </tr>\n",
       "  </tbody>\n",
       "</table>\n",
       "<p>276 rows × 6 columns</p>\n",
       "</div>"
      ],
      "text/plain": [
       "            allindustries      affh    mining  manufacturing  realestate  \\\n",
       "REF_DATE                                                                   \n",
       "1997-01-01            NaN       NaN       NaN            NaN         NaN   \n",
       "1997-02-01       0.006315 -0.005878  0.015750       0.011573   -0.001750   \n",
       "1997-03-01      -0.000102  0.000250  0.010581      -0.009636   -0.000296   \n",
       "1997-04-01       0.006781  0.008451  0.016038       0.015943   -0.001153   \n",
       "1997-05-01       0.003558  0.000372 -0.024472       0.009316    0.000460   \n",
       "...                   ...       ...       ...            ...         ...   \n",
       "2019-08-01       0.001454 -0.001987 -0.000171       0.008199    0.003029   \n",
       "2019-09-01       0.000271 -0.006931 -0.002687      -0.003930    0.002655   \n",
       "2019-10-01      -0.000887 -0.003886  0.003318      -0.009270    0.001716   \n",
       "2019-11-01       0.000525 -0.004274 -0.015792      -0.001805    0.001902   \n",
       "2019-12-01       0.003426 -0.000449  0.013032       0.003561    0.001544   \n",
       "\n",
       "            accomfood  \n",
       "REF_DATE               \n",
       "1997-01-01        NaN  \n",
       "1997-02-01   0.009722  \n",
       "1997-03-01   0.002498  \n",
       "1997-04-01   0.003827  \n",
       "1997-05-01   0.002698  \n",
       "...               ...  \n",
       "2019-08-01   0.004139  \n",
       "2019-09-01   0.001159  \n",
       "2019-10-01   0.000645  \n",
       "2019-11-01   0.005405  \n",
       "2019-12-01  -0.000929  \n",
       "\n",
       "[276 rows x 6 columns]"
      ]
     },
     "execution_count": 9,
     "metadata": {},
     "output_type": "execute_result"
    }
   ],
   "source": [
    "#month over month\n",
    "df.pct_change() "
   ]
  },
  {
   "cell_type": "markdown",
   "metadata": {},
   "source": [
    "## Task for tomorrow: \n",
    "\n",
    "1. Display \"Percentages - % \"\n",
    "2. Calculate annual average based on monthly data; and then compare with annual data table\n",
    "3. Year over year \n",
    "4. Calculate\" Percentages -evey 2-digit NAICS over total industry GDP\" - using monthly data first "
   ]
  },
  {
   "cell_type": "code",
   "execution_count": null,
   "metadata": {},
   "outputs": [],
   "source": []
  }
 ],
 "metadata": {
  "kernelspec": {
   "display_name": "Python 3",
   "language": "python",
   "name": "python3"
  },
  "language_info": {
   "codemirror_mode": {
    "name": "ipython",
    "version": 3
   },
   "file_extension": ".py",
   "mimetype": "text/x-python",
   "name": "python",
   "nbconvert_exporter": "python",
   "pygments_lexer": "ipython3",
   "version": "3.7.4"
  }
 },
 "nbformat": 4,
 "nbformat_minor": 2
}
