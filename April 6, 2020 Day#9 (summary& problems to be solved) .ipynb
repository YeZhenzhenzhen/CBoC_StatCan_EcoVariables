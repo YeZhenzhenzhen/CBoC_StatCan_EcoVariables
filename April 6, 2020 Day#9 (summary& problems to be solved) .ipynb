{
 "cells": [
  {
   "cell_type": "markdown",
   "metadata": {},
   "source": [
    "## Learning Materials\n",
    "https://stats-can.readthedocs.io/en/latest/"
   ]
  },
  {
   "cell_type": "code",
   "execution_count": 7,
   "metadata": {
    "scrolled": true
   },
   "outputs": [
    {
     "name": "stdout",
     "output_type": "stream",
     "text": [
      "Collecting package metadata (current_repodata.json): ...working... done\n",
      "Solving environment: ...working... done\n",
      "\n",
      "# All requested packages already installed.\n",
      "\n",
      "\n",
      "Note: you may need to restart the kernel to use updated packages.\n"
     ]
    }
   ],
   "source": [
    "conda install -c ian.e.preston stats_can"
   ]
  },
  {
   "cell_type": "code",
   "execution_count": 8,
   "metadata": {},
   "outputs": [],
   "source": [
    "import requests \n",
    "import pandas as pd\n",
    "from stats_can import StatsCan\n",
    "\n",
    "sc = StatsCan()"
   ]
  },
  {
   "cell_type": "markdown",
   "metadata": {},
   "source": [
    "## Questions:\n",
    " what does the command above do?\n",
    "sc = StatsCan() "
   ]
  },
  {
   "cell_type": "code",
   "execution_count": 9,
   "metadata": {},
   "outputs": [],
   "source": [
    "sc = StatsCan(data_folder=\"C:/Users/ye/Desktop/Zhenzhen/Python\")"
   ]
  },
  {
   "cell_type": "markdown",
   "metadata": {},
   "source": [
    "## Canadian National Accounts- GDP\n",
    "https://www150.statcan.gc.ca/n1/pub/13-607-x/2016001/230-eng.htm\n",
    "\n",
    "The indicators/variables of interest in this exercise are from Table: 36-10-0434-01 (formerly CANSIM 379-0031)\n",
    "Frequency: Monthly\n",
    "Geography: Canada\n",
    "Seasonally adjusted at annual rate; chained(2012) dollars "
   ]
  },
  {
   "cell_type": "code",
   "execution_count": 10,
   "metadata": {},
   "outputs": [],
   "source": [
    "#The url below allows me to extract variables/indicators without knowing which StatCan's Tables those variables/indicators belong; however there's a 2-3 day delay in updating, compared with specific StatCan's Tables\n",
    "url='https://www150.statcan.gc.ca/t1/wds/rest/getSeriesInfoFromVector'\n",
    "r=requests.get(url, allow_redirects=True)\n",
    "\n",
    "# In this exercise,I take the following variables as examples ALL industries GDP, AgricultureGDP, MiningGDP,ManufacturingGDP ,Real estateGDP, acoomodationGDP\n",
    "#print(df.v65201210, df.v65201229, df.v65201236, df.v65201263, df.v65201419, df.v65201468)\n",
    "df = sc.vectors_to_df([\"v65201210\", \"v65201229\",\"v65201236\",\"v65201263\", \"v65201419\",\"v65201468\"])"
   ]
  },
  {
   "cell_type": "code",
   "execution_count": 11,
   "metadata": {},
   "outputs": [],
   "source": [
    "# Rename vectors, so that you don't need to memorize them (You can refer the csv table \"2 digit NAICS_Vectors_Monthly Seasonal Chained 2012_ Table 3610043401-eng (1)\"\n",
    "# Learn from Syntax: DataFrame.rename(mapper=None, index=None, columns=None, axis=None, copy=True, inplace=False, level=None)\n",
    " \n",
    "df_n=df.rename(columns={\"v65201210\":\"allindustries\", \"v65201229\":\"affh\",\"v65201236\":\"mining\",\"v65201263\":\"manufacturing\", \"v65201419\":\"realestate\",\"v65201468\":\"accomfood\"}, inplace=True)"
   ]
  },
  {
   "cell_type": "markdown",
   "metadata": {},
   "source": [
    "## Questions: Why print(df_n) shows nothing?"
   ]
  },
  {
   "cell_type": "code",
   "execution_count": 12,
   "metadata": {},
   "outputs": [
    {
     "name": "stdout",
     "output_type": "stream",
     "text": [
      "None\n",
      "            allindustries     affh    mining  manufacturing  realestate  \\\n",
      "REF_DATE                                                                  \n",
      "1997-01-01      1146254.0  24156.0   99558.0       165474.0    128575.0   \n",
      "1997-02-01      1153493.0  24014.0  101126.0       167389.0    128350.0   \n",
      "1997-03-01      1153375.0  24020.0  102196.0       165776.0    128312.0   \n",
      "1997-04-01      1161196.0  24223.0  103835.0       168419.0    128164.0   \n",
      "1997-05-01      1165328.0  24232.0  101294.0       169988.0    128223.0   \n",
      "...                   ...      ...       ...            ...         ...   \n",
      "2019-09-01      1979304.0  40386.0  145643.0       200633.0    252974.0   \n",
      "2019-10-01      1977120.0  40257.0  146359.0       198873.0    253452.0   \n",
      "2019-11-01      1978810.0  40104.0  144134.0       198903.0    253994.0   \n",
      "2019-12-01      1983827.0  40072.0  146111.0       198480.0    254440.0   \n",
      "2020-01-01      1986692.0  40140.0  145257.0       200066.0    254704.0   \n",
      "\n",
      "            accomfood  \n",
      "REF_DATE               \n",
      "1997-01-01    27361.0  \n",
      "1997-02-01    27627.0  \n",
      "1997-03-01    27696.0  \n",
      "1997-04-01    27802.0  \n",
      "1997-05-01    27877.0  \n",
      "...               ...  \n",
      "2019-09-01    44829.0  \n",
      "2019-10-01    44827.0  \n",
      "2019-11-01    45005.0  \n",
      "2019-12-01    44977.0  \n",
      "2020-01-01    44789.0  \n",
      "\n",
      "[277 rows x 6 columns]\n"
     ]
    }
   ],
   "source": [
    "print(df_n)\n",
    "print(df)"
   ]
  },
  {
   "cell_type": "markdown",
   "metadata": {},
   "source": [
    "## Questions:  How come it does not update to Jan, 2020 - the tables are alredy updated in StatCan's Tables \n",
    "\n",
    "sc.update_tables()\n",
    "#print(df)\n",
    "\n",
    "## Answers : There's a delay, approximately 3 days \n",
    "\n"
   ]
  },
  {
   "cell_type": "code",
   "execution_count": 13,
   "metadata": {
    "scrolled": true
   },
   "outputs": [],
   "source": [
    "# If you don't want to wait, you may extract from THE Table; and in this exercise, all the variables/indicators are from Table: 36-10-0434-01 \n",
    "#url='https://www150.statcan.gc.ca/t1/tbl1/en/tv.action?pid=3610043401'\n",
    "#r=requests.get(url, allow_redirects=True)\n",
    "#df = sc.vectors_to_df([\"v65201210\", \"v65201229\",\"v65201236\",\"v65201263\", \"v65201419\",\"v65201468\"])\n",
    "#print(df)\n"
   ]
  },
  {
   "cell_type": "markdown",
   "metadata": {},
   "source": [
    "## Task 2: Calculate rates \n",
    "a. Year over year \n",
    "b. Month over month \n",
    "c. Percentages -evey 2-digit NAICS over total industry GDP"
   ]
  },
  {
   "cell_type": "code",
   "execution_count": 15,
   "metadata": {},
   "outputs": [
    {
     "data": {
      "text/html": [
       "<div>\n",
       "<style scoped>\n",
       "    .dataframe tbody tr th:only-of-type {\n",
       "        vertical-align: middle;\n",
       "    }\n",
       "\n",
       "    .dataframe tbody tr th {\n",
       "        vertical-align: top;\n",
       "    }\n",
       "\n",
       "    .dataframe thead th {\n",
       "        text-align: right;\n",
       "    }\n",
       "</style>\n",
       "<table border=\"1\" class=\"dataframe\">\n",
       "  <thead>\n",
       "    <tr style=\"text-align: right;\">\n",
       "      <th></th>\n",
       "      <th>allindustries</th>\n",
       "      <th>affh</th>\n",
       "      <th>mining</th>\n",
       "      <th>manufacturing</th>\n",
       "      <th>realestate</th>\n",
       "      <th>accomfood</th>\n",
       "    </tr>\n",
       "    <tr>\n",
       "      <th>REF_DATE</th>\n",
       "      <th></th>\n",
       "      <th></th>\n",
       "      <th></th>\n",
       "      <th></th>\n",
       "      <th></th>\n",
       "      <th></th>\n",
       "    </tr>\n",
       "  </thead>\n",
       "  <tbody>\n",
       "    <tr>\n",
       "      <td>1997-01-01</td>\n",
       "      <td>NaN</td>\n",
       "      <td>NaN</td>\n",
       "      <td>NaN</td>\n",
       "      <td>NaN</td>\n",
       "      <td>NaN</td>\n",
       "      <td>NaN</td>\n",
       "    </tr>\n",
       "    <tr>\n",
       "      <td>1997-02-01</td>\n",
       "      <td>0.006315</td>\n",
       "      <td>-0.005878</td>\n",
       "      <td>0.015750</td>\n",
       "      <td>0.011573</td>\n",
       "      <td>-0.001750</td>\n",
       "      <td>0.009722</td>\n",
       "    </tr>\n",
       "    <tr>\n",
       "      <td>1997-03-01</td>\n",
       "      <td>-0.000102</td>\n",
       "      <td>0.000250</td>\n",
       "      <td>0.010581</td>\n",
       "      <td>-0.009636</td>\n",
       "      <td>-0.000296</td>\n",
       "      <td>0.002498</td>\n",
       "    </tr>\n",
       "    <tr>\n",
       "      <td>1997-04-01</td>\n",
       "      <td>0.006781</td>\n",
       "      <td>0.008451</td>\n",
       "      <td>0.016038</td>\n",
       "      <td>0.015943</td>\n",
       "      <td>-0.001153</td>\n",
       "      <td>0.003827</td>\n",
       "    </tr>\n",
       "    <tr>\n",
       "      <td>1997-05-01</td>\n",
       "      <td>0.003558</td>\n",
       "      <td>0.000372</td>\n",
       "      <td>-0.024472</td>\n",
       "      <td>0.009316</td>\n",
       "      <td>0.000460</td>\n",
       "      <td>0.002698</td>\n",
       "    </tr>\n",
       "    <tr>\n",
       "      <td>...</td>\n",
       "      <td>...</td>\n",
       "      <td>...</td>\n",
       "      <td>...</td>\n",
       "      <td>...</td>\n",
       "      <td>...</td>\n",
       "      <td>...</td>\n",
       "    </tr>\n",
       "    <tr>\n",
       "      <td>2019-09-01</td>\n",
       "      <td>0.000157</td>\n",
       "      <td>-0.006250</td>\n",
       "      <td>-0.005768</td>\n",
       "      <td>-0.003798</td>\n",
       "      <td>0.002644</td>\n",
       "      <td>0.001765</td>\n",
       "    </tr>\n",
       "    <tr>\n",
       "      <td>2019-10-01</td>\n",
       "      <td>-0.001103</td>\n",
       "      <td>-0.003194</td>\n",
       "      <td>0.004916</td>\n",
       "      <td>-0.008772</td>\n",
       "      <td>0.001890</td>\n",
       "      <td>-0.000045</td>\n",
       "    </tr>\n",
       "    <tr>\n",
       "      <td>2019-11-01</td>\n",
       "      <td>0.000855</td>\n",
       "      <td>-0.003801</td>\n",
       "      <td>-0.015202</td>\n",
       "      <td>0.000151</td>\n",
       "      <td>0.002138</td>\n",
       "      <td>0.003971</td>\n",
       "    </tr>\n",
       "    <tr>\n",
       "      <td>2019-12-01</td>\n",
       "      <td>0.002535</td>\n",
       "      <td>-0.000798</td>\n",
       "      <td>0.013716</td>\n",
       "      <td>-0.002127</td>\n",
       "      <td>0.001756</td>\n",
       "      <td>-0.000622</td>\n",
       "    </tr>\n",
       "    <tr>\n",
       "      <td>2020-01-01</td>\n",
       "      <td>0.001444</td>\n",
       "      <td>0.001697</td>\n",
       "      <td>-0.005845</td>\n",
       "      <td>0.007991</td>\n",
       "      <td>0.001038</td>\n",
       "      <td>-0.004180</td>\n",
       "    </tr>\n",
       "  </tbody>\n",
       "</table>\n",
       "<p>277 rows × 6 columns</p>\n",
       "</div>"
      ],
      "text/plain": [
       "            allindustries      affh    mining  manufacturing  realestate  \\\n",
       "REF_DATE                                                                   \n",
       "1997-01-01            NaN       NaN       NaN            NaN         NaN   \n",
       "1997-02-01       0.006315 -0.005878  0.015750       0.011573   -0.001750   \n",
       "1997-03-01      -0.000102  0.000250  0.010581      -0.009636   -0.000296   \n",
       "1997-04-01       0.006781  0.008451  0.016038       0.015943   -0.001153   \n",
       "1997-05-01       0.003558  0.000372 -0.024472       0.009316    0.000460   \n",
       "...                   ...       ...       ...            ...         ...   \n",
       "2019-09-01       0.000157 -0.006250 -0.005768      -0.003798    0.002644   \n",
       "2019-10-01      -0.001103 -0.003194  0.004916      -0.008772    0.001890   \n",
       "2019-11-01       0.000855 -0.003801 -0.015202       0.000151    0.002138   \n",
       "2019-12-01       0.002535 -0.000798  0.013716      -0.002127    0.001756   \n",
       "2020-01-01       0.001444  0.001697 -0.005845       0.007991    0.001038   \n",
       "\n",
       "            accomfood  \n",
       "REF_DATE               \n",
       "1997-01-01        NaN  \n",
       "1997-02-01   0.009722  \n",
       "1997-03-01   0.002498  \n",
       "1997-04-01   0.003827  \n",
       "1997-05-01   0.002698  \n",
       "...               ...  \n",
       "2019-09-01   0.001765  \n",
       "2019-10-01  -0.000045  \n",
       "2019-11-01   0.003971  \n",
       "2019-12-01  -0.000622  \n",
       "2020-01-01  -0.004180  \n",
       "\n",
       "[277 rows x 6 columns]"
      ]
     },
     "execution_count": 15,
     "metadata": {},
     "output_type": "execute_result"
    }
   ],
   "source": [
    "#month over month\n",
    "dfp=df.pct_change() \n",
    "dfp"
   ]
  },
  {
   "cell_type": "markdown",
   "metadata": {},
   "source": [
    "### Task 2-1. Display \"Percentages - % \" : pd.options.display.float_format = '{:.2%}'.format (done)\n"
   ]
  },
  {
   "cell_type": "code",
   "execution_count": 16,
   "metadata": {},
   "outputs": [
    {
     "data": {
      "text/html": [
       "<div>\n",
       "<style scoped>\n",
       "    .dataframe tbody tr th:only-of-type {\n",
       "        vertical-align: middle;\n",
       "    }\n",
       "\n",
       "    .dataframe tbody tr th {\n",
       "        vertical-align: top;\n",
       "    }\n",
       "\n",
       "    .dataframe thead th {\n",
       "        text-align: right;\n",
       "    }\n",
       "</style>\n",
       "<table border=\"1\" class=\"dataframe\">\n",
       "  <thead>\n",
       "    <tr style=\"text-align: right;\">\n",
       "      <th></th>\n",
       "      <th>allindustries</th>\n",
       "      <th>affh</th>\n",
       "      <th>mining</th>\n",
       "      <th>manufacturing</th>\n",
       "      <th>realestate</th>\n",
       "      <th>accomfood</th>\n",
       "    </tr>\n",
       "    <tr>\n",
       "      <th>REF_DATE</th>\n",
       "      <th></th>\n",
       "      <th></th>\n",
       "      <th></th>\n",
       "      <th></th>\n",
       "      <th></th>\n",
       "      <th></th>\n",
       "    </tr>\n",
       "  </thead>\n",
       "  <tbody>\n",
       "    <tr>\n",
       "      <td>1997-01-01</td>\n",
       "      <td>nan%</td>\n",
       "      <td>nan%</td>\n",
       "      <td>nan%</td>\n",
       "      <td>nan%</td>\n",
       "      <td>nan%</td>\n",
       "      <td>nan%</td>\n",
       "    </tr>\n",
       "    <tr>\n",
       "      <td>1997-02-01</td>\n",
       "      <td>0.63%</td>\n",
       "      <td>-0.59%</td>\n",
       "      <td>1.57%</td>\n",
       "      <td>1.16%</td>\n",
       "      <td>-0.17%</td>\n",
       "      <td>0.97%</td>\n",
       "    </tr>\n",
       "    <tr>\n",
       "      <td>1997-03-01</td>\n",
       "      <td>-0.01%</td>\n",
       "      <td>0.02%</td>\n",
       "      <td>1.06%</td>\n",
       "      <td>-0.96%</td>\n",
       "      <td>-0.03%</td>\n",
       "      <td>0.25%</td>\n",
       "    </tr>\n",
       "    <tr>\n",
       "      <td>1997-04-01</td>\n",
       "      <td>0.68%</td>\n",
       "      <td>0.85%</td>\n",
       "      <td>1.60%</td>\n",
       "      <td>1.59%</td>\n",
       "      <td>-0.12%</td>\n",
       "      <td>0.38%</td>\n",
       "    </tr>\n",
       "    <tr>\n",
       "      <td>1997-05-01</td>\n",
       "      <td>0.36%</td>\n",
       "      <td>0.04%</td>\n",
       "      <td>-2.45%</td>\n",
       "      <td>0.93%</td>\n",
       "      <td>0.05%</td>\n",
       "      <td>0.27%</td>\n",
       "    </tr>\n",
       "    <tr>\n",
       "      <td>...</td>\n",
       "      <td>...</td>\n",
       "      <td>...</td>\n",
       "      <td>...</td>\n",
       "      <td>...</td>\n",
       "      <td>...</td>\n",
       "      <td>...</td>\n",
       "    </tr>\n",
       "    <tr>\n",
       "      <td>2019-09-01</td>\n",
       "      <td>0.02%</td>\n",
       "      <td>-0.62%</td>\n",
       "      <td>-0.58%</td>\n",
       "      <td>-0.38%</td>\n",
       "      <td>0.26%</td>\n",
       "      <td>0.18%</td>\n",
       "    </tr>\n",
       "    <tr>\n",
       "      <td>2019-10-01</td>\n",
       "      <td>-0.11%</td>\n",
       "      <td>-0.32%</td>\n",
       "      <td>0.49%</td>\n",
       "      <td>-0.88%</td>\n",
       "      <td>0.19%</td>\n",
       "      <td>-0.00%</td>\n",
       "    </tr>\n",
       "    <tr>\n",
       "      <td>2019-11-01</td>\n",
       "      <td>0.09%</td>\n",
       "      <td>-0.38%</td>\n",
       "      <td>-1.52%</td>\n",
       "      <td>0.02%</td>\n",
       "      <td>0.21%</td>\n",
       "      <td>0.40%</td>\n",
       "    </tr>\n",
       "    <tr>\n",
       "      <td>2019-12-01</td>\n",
       "      <td>0.25%</td>\n",
       "      <td>-0.08%</td>\n",
       "      <td>1.37%</td>\n",
       "      <td>-0.21%</td>\n",
       "      <td>0.18%</td>\n",
       "      <td>-0.06%</td>\n",
       "    </tr>\n",
       "    <tr>\n",
       "      <td>2020-01-01</td>\n",
       "      <td>0.14%</td>\n",
       "      <td>0.17%</td>\n",
       "      <td>-0.58%</td>\n",
       "      <td>0.80%</td>\n",
       "      <td>0.10%</td>\n",
       "      <td>-0.42%</td>\n",
       "    </tr>\n",
       "  </tbody>\n",
       "</table>\n",
       "<p>277 rows × 6 columns</p>\n",
       "</div>"
      ],
      "text/plain": [
       "            allindustries   affh  mining  manufacturing  realestate  accomfood\n",
       "REF_DATE                                                                      \n",
       "1997-01-01           nan%   nan%    nan%           nan%        nan%       nan%\n",
       "1997-02-01          0.63% -0.59%   1.57%          1.16%      -0.17%      0.97%\n",
       "1997-03-01         -0.01%  0.02%   1.06%         -0.96%      -0.03%      0.25%\n",
       "1997-04-01          0.68%  0.85%   1.60%          1.59%      -0.12%      0.38%\n",
       "1997-05-01          0.36%  0.04%  -2.45%          0.93%       0.05%      0.27%\n",
       "...                   ...    ...     ...            ...         ...        ...\n",
       "2019-09-01          0.02% -0.62%  -0.58%         -0.38%       0.26%      0.18%\n",
       "2019-10-01         -0.11% -0.32%   0.49%         -0.88%       0.19%     -0.00%\n",
       "2019-11-01          0.09% -0.38%  -1.52%          0.02%       0.21%      0.40%\n",
       "2019-12-01          0.25% -0.08%   1.37%         -0.21%       0.18%     -0.06%\n",
       "2020-01-01          0.14%  0.17%  -0.58%          0.80%       0.10%     -0.42%\n",
       "\n",
       "[277 rows x 6 columns]"
      ]
     },
     "execution_count": 16,
     "metadata": {},
     "output_type": "execute_result"
    }
   ],
   "source": [
    "pd.options.display.float_format = '{:.2%}'.format\n",
    "dfp"
   ]
  },
  {
   "cell_type": "markdown",
   "metadata": {},
   "source": [
    "## Questions: However, it also changed the format of GDP value above, which should maintain the value format."
   ]
  },
  {
   "cell_type": "markdown",
   "metadata": {},
   "source": [
    "## Tomorrow's Tasks (Task 2- series)\n",
    "2. Calculate annual average based on monthly data; and then compare with annual data table\n",
    "3. Year over year \n",
    "4. Calculate\" Percentages -evey 2-digit NAICS over total industry GDP\" - using monthly data first\n",
    "5. #I just want to check certain months/years \n",
    "   dfp[\"2018\"] \n",
    "   \n",
    "   however it can only show one year at a time...\n"
   ]
  },
  {
   "cell_type": "markdown",
   "metadata": {},
   "source": [
    "## Taks2-2 \n",
    "\n",
    "### You can do 12-month average, because the variables in Table 36-10-0434-01 are already \"Seasonally adjusted at annual rates, Chained (2012) dollars\"\n",
    "\n",
    "https://stackoverflow.com/questions/45205423/find-annual-average-of-pandas-dataframe-with-date-column\n",
    "\n",
    "      As I need to tell Python to calculate annual averages base on monthly data - I should give \"REF DATE\" colum a name FIRST? "
   ]
  },
  {
   "cell_type": "markdown",
   "metadata": {},
   "source": [
    "## Questions: How to extract or create dates that associate/match variables of interest? "
   ]
  },
  {
   "cell_type": "code",
   "execution_count": 34,
   "metadata": {},
   "outputs": [
    {
     "ename": "ValueError",
     "evalue": "Length mismatch: Expected axis has 1 elements, new values have 7 elements",
     "output_type": "error",
     "traceback": [
      "\u001b[1;31m---------------------------------------------------------------------------\u001b[0m",
      "\u001b[1;31mValueError\u001b[0m                                Traceback (most recent call last)",
      "\u001b[1;32m<ipython-input-34-498f739fdbb5>\u001b[0m in \u001b[0;36m<module>\u001b[1;34m\u001b[0m\n\u001b[0;32m      1\u001b[0m \u001b[1;31m### kk confirmed, the REF Date is not a variables...errormessage Length mismatch: Expected axis has 1 elements, new values have 7 elements\u001b[0m\u001b[1;33m\u001b[0m\u001b[1;33m\u001b[0m\u001b[1;33m\u001b[0m\u001b[0m\n\u001b[0;32m      2\u001b[0m \u001b[1;33m\u001b[0m\u001b[0m\n\u001b[1;32m----> 3\u001b[1;33m \u001b[0mdf\u001b[0m\u001b[1;33m.\u001b[0m\u001b[0mcolumns\u001b[0m \u001b[1;33m=\u001b[0m \u001b[1;33m[\u001b[0m\u001b[1;34m\"date\"\u001b[0m\u001b[1;33m,\u001b[0m\u001b[1;34m\"a\"\u001b[0m\u001b[1;33m,\u001b[0m\u001b[1;34m\"b\"\u001b[0m\u001b[1;33m,\u001b[0m\u001b[1;34m\"c\"\u001b[0m\u001b[1;33m,\u001b[0m\u001b[1;34m\"d\"\u001b[0m\u001b[1;33m,\u001b[0m\u001b[1;34m\"e\"\u001b[0m\u001b[1;33m,\u001b[0m\u001b[1;34m\"f\"\u001b[0m\u001b[1;33m]\u001b[0m\u001b[1;33m\u001b[0m\u001b[1;33m\u001b[0m\u001b[0m\n\u001b[0m",
      "\u001b[1;32m~\\AppData\\Local\\Continuum\\anaconda3\\lib\\site-packages\\pandas\\core\\generic.py\u001b[0m in \u001b[0;36m__setattr__\u001b[1;34m(self, name, value)\u001b[0m\n\u001b[0;32m   5190\u001b[0m         \u001b[1;32mtry\u001b[0m\u001b[1;33m:\u001b[0m\u001b[1;33m\u001b[0m\u001b[1;33m\u001b[0m\u001b[0m\n\u001b[0;32m   5191\u001b[0m             \u001b[0mobject\u001b[0m\u001b[1;33m.\u001b[0m\u001b[0m__getattribute__\u001b[0m\u001b[1;33m(\u001b[0m\u001b[0mself\u001b[0m\u001b[1;33m,\u001b[0m \u001b[0mname\u001b[0m\u001b[1;33m)\u001b[0m\u001b[1;33m\u001b[0m\u001b[1;33m\u001b[0m\u001b[0m\n\u001b[1;32m-> 5192\u001b[1;33m             \u001b[1;32mreturn\u001b[0m \u001b[0mobject\u001b[0m\u001b[1;33m.\u001b[0m\u001b[0m__setattr__\u001b[0m\u001b[1;33m(\u001b[0m\u001b[0mself\u001b[0m\u001b[1;33m,\u001b[0m \u001b[0mname\u001b[0m\u001b[1;33m,\u001b[0m \u001b[0mvalue\u001b[0m\u001b[1;33m)\u001b[0m\u001b[1;33m\u001b[0m\u001b[1;33m\u001b[0m\u001b[0m\n\u001b[0m\u001b[0;32m   5193\u001b[0m         \u001b[1;32mexcept\u001b[0m \u001b[0mAttributeError\u001b[0m\u001b[1;33m:\u001b[0m\u001b[1;33m\u001b[0m\u001b[1;33m\u001b[0m\u001b[0m\n\u001b[0;32m   5194\u001b[0m             \u001b[1;32mpass\u001b[0m\u001b[1;33m\u001b[0m\u001b[1;33m\u001b[0m\u001b[0m\n",
      "\u001b[1;32mpandas\\_libs\\properties.pyx\u001b[0m in \u001b[0;36mpandas._libs.properties.AxisProperty.__set__\u001b[1;34m()\u001b[0m\n",
      "\u001b[1;32m~\\AppData\\Local\\Continuum\\anaconda3\\lib\\site-packages\\pandas\\core\\generic.py\u001b[0m in \u001b[0;36m_set_axis\u001b[1;34m(self, axis, labels)\u001b[0m\n\u001b[0;32m    688\u001b[0m \u001b[1;33m\u001b[0m\u001b[0m\n\u001b[0;32m    689\u001b[0m     \u001b[1;32mdef\u001b[0m \u001b[0m_set_axis\u001b[0m\u001b[1;33m(\u001b[0m\u001b[0mself\u001b[0m\u001b[1;33m,\u001b[0m \u001b[0maxis\u001b[0m\u001b[1;33m,\u001b[0m \u001b[0mlabels\u001b[0m\u001b[1;33m)\u001b[0m\u001b[1;33m:\u001b[0m\u001b[1;33m\u001b[0m\u001b[1;33m\u001b[0m\u001b[0m\n\u001b[1;32m--> 690\u001b[1;33m         \u001b[0mself\u001b[0m\u001b[1;33m.\u001b[0m\u001b[0m_data\u001b[0m\u001b[1;33m.\u001b[0m\u001b[0mset_axis\u001b[0m\u001b[1;33m(\u001b[0m\u001b[0maxis\u001b[0m\u001b[1;33m,\u001b[0m \u001b[0mlabels\u001b[0m\u001b[1;33m)\u001b[0m\u001b[1;33m\u001b[0m\u001b[1;33m\u001b[0m\u001b[0m\n\u001b[0m\u001b[0;32m    691\u001b[0m         \u001b[0mself\u001b[0m\u001b[1;33m.\u001b[0m\u001b[0m_clear_item_cache\u001b[0m\u001b[1;33m(\u001b[0m\u001b[1;33m)\u001b[0m\u001b[1;33m\u001b[0m\u001b[1;33m\u001b[0m\u001b[0m\n\u001b[0;32m    692\u001b[0m \u001b[1;33m\u001b[0m\u001b[0m\n",
      "\u001b[1;32m~\\AppData\\Local\\Continuum\\anaconda3\\lib\\site-packages\\pandas\\core\\internals\\managers.py\u001b[0m in \u001b[0;36mset_axis\u001b[1;34m(self, axis, new_labels)\u001b[0m\n\u001b[0;32m    181\u001b[0m             raise ValueError(\n\u001b[0;32m    182\u001b[0m                 \u001b[1;34m\"Length mismatch: Expected axis has {old} elements, new \"\u001b[0m\u001b[1;33m\u001b[0m\u001b[1;33m\u001b[0m\u001b[0m\n\u001b[1;32m--> 183\u001b[1;33m                 \u001b[1;34m\"values have {new} elements\"\u001b[0m\u001b[1;33m.\u001b[0m\u001b[0mformat\u001b[0m\u001b[1;33m(\u001b[0m\u001b[0mold\u001b[0m\u001b[1;33m=\u001b[0m\u001b[0mold_len\u001b[0m\u001b[1;33m,\u001b[0m \u001b[0mnew\u001b[0m\u001b[1;33m=\u001b[0m\u001b[0mnew_len\u001b[0m\u001b[1;33m)\u001b[0m\u001b[1;33m\u001b[0m\u001b[1;33m\u001b[0m\u001b[0m\n\u001b[0m\u001b[0;32m    184\u001b[0m             )\n\u001b[0;32m    185\u001b[0m \u001b[1;33m\u001b[0m\u001b[0m\n",
      "\u001b[1;31mValueError\u001b[0m: Length mismatch: Expected axis has 1 elements, new values have 7 elements"
     ]
    }
   ],
   "source": [
    "df.columns = [\"date\",\"a\",\"b\",\"c\",\"d\",\"e\",\"f\"]\n",
    "### kk confirmed, the \"REF DATE\" is not a variable/column --> error message\"Length mismatch: Expected axis has 1 elements, new values have 7 elements\"\n"
   ]
  },
  {
   "cell_type": "code",
   "execution_count": 35,
   "metadata": {},
   "outputs": [
    {
     "name": "stdout",
     "output_type": "stream",
     "text": [
      "DatetimeIndex(['1997-01-01 00:00:00', '1997-01-01 01:00:00',\n",
      "               '1997-01-01 02:00:00', '1997-01-01 03:00:00',\n",
      "               '1997-01-01 04:00:00', '1997-01-01 05:00:00',\n",
      "               '1997-01-01 06:00:00', '1997-01-01 07:00:00',\n",
      "               '1997-01-01 08:00:00', '1997-01-01 09:00:00',\n",
      "               ...\n",
      "               '2019-12-31 15:00:00', '2019-12-31 16:00:00',\n",
      "               '2019-12-31 17:00:00', '2019-12-31 18:00:00',\n",
      "               '2019-12-31 19:00:00', '2019-12-31 20:00:00',\n",
      "               '2019-12-31 21:00:00', '2019-12-31 22:00:00',\n",
      "               '2019-12-31 23:00:00', '2020-01-01 00:00:00'],\n",
      "              dtype='datetime64[ns]', length=201601, freq='H')\n"
     ]
    }
   ],
   "source": [
    "# If I do the following, the date is fixed and won't update automatically... \n",
    "  # my thought is when I pull statscan data, I should somehow create/store the dates at the same time \n",
    "date_rng = pd.date_range(start='1/1/1997', end='1/1/2020', freq='H')\n",
    "type(date_rng)\n",
    "print (date_rng)"
   ]
  },
  {
   "cell_type": "code",
   "execution_count": null,
   "metadata": {},
   "outputs": [],
   "source": []
  }
 ],
 "metadata": {
  "kernelspec": {
   "display_name": "Python 3",
   "language": "python",
   "name": "python3"
  },
  "language_info": {
   "codemirror_mode": {
    "name": "ipython",
    "version": 3
   },
   "file_extension": ".py",
   "mimetype": "text/x-python",
   "name": "python",
   "nbconvert_exporter": "python",
   "pygments_lexer": "ipython3",
   "version": "3.7.4"
  }
 },
 "nbformat": 4,
 "nbformat_minor": 2
}
