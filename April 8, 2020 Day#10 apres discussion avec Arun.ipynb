{
 "cells": [
  {
   "cell_type": "markdown",
   "metadata": {},
   "source": [
    "## Learning Materials\n",
    "https://stats-can.readthedocs.io/en/latest/"
   ]
  },
  {
   "cell_type": "code",
   "execution_count": 76,
   "metadata": {
    "scrolled": true
   },
   "outputs": [
    {
     "name": "stdout",
     "output_type": "stream",
     "text": [
      "Collecting package metadata (current_repodata.json): ...working... done\n",
      "Solving environment: ...working... done\n",
      "\n",
      "# All requested packages already installed.\n",
      "\n",
      "\n",
      "Note: you may need to restart the kernel to use updated packages.\n"
     ]
    }
   ],
   "source": [
    "conda install -c ian.e.preston stats_can"
   ]
  },
  {
   "cell_type": "code",
   "execution_count": 77,
   "metadata": {},
   "outputs": [],
   "source": [
    "import requests \n",
    "import pandas as pd\n",
    "from stats_can import StatsCan\n",
    "\n",
    "sc = StatsCan()"
   ]
  },
  {
   "cell_type": "markdown",
   "metadata": {},
   "source": [
    "## Questions:\n",
    " what does the command above do?\n",
    "sc = StatsCan() "
   ]
  },
  {
   "cell_type": "code",
   "execution_count": 78,
   "metadata": {},
   "outputs": [],
   "source": [
    "sc = StatsCan(data_folder=\"C:/Users/ye/Desktop/Zhenzhen/Python\")"
   ]
  },
  {
   "cell_type": "markdown",
   "metadata": {},
   "source": [
    "## Canadian National Accounts- GDP\n",
    "https://www150.statcan.gc.ca/n1/pub/13-607-x/2016001/230-eng.htm\n",
    "\n",
    "The indicators/variables of interest in this exercise are from Table: 36-10-0434-01 (formerly CANSIM 379-0031)\n",
    "Frequency: Monthly\n",
    "Geography: Canada\n",
    "Seasonally adjusted at annual rate; chained(2012) dollars "
   ]
  },
  {
   "cell_type": "code",
   "execution_count": 79,
   "metadata": {},
   "outputs": [],
   "source": [
    "#The url below allows me to extract variables/indicators without knowing which StatCan's Tables those variables/indicators belong; however there's a 2-3 day delay in updating, compared with specific StatCan's Tables\n",
    "url='https://www150.statcan.gc.ca/t1/wds/rest/getSeriesInfoFromVector'\n",
    "r=requests.get(url, allow_redirects=True)\n",
    "\n",
    "# In this exercise,I take the following variables as examples ALL industries GDP, AgricultureGDP, MiningGDP,ManufacturingGDP ,Real estateGDP, acoomodationGDP\n",
    "#print(df.v65201210, df.v65201229, df.v65201236, df.v65201263, df.v65201419, df.v65201468)\n",
    "df = sc.vectors_to_df([\"v65201210\", \"v65201229\",\"v65201236\",\"v65201263\", \"v65201419\",\"v65201468\"])"
   ]
  },
  {
   "cell_type": "code",
   "execution_count": 80,
   "metadata": {},
   "outputs": [],
   "source": [
    "# Rename vectors, so that you don't need to memorize them (You can refer the csv table \"2 digit NAICS_Vectors_Monthly Seasonal Chained 2012_ Table 3610043401-eng (1)\"\n",
    "# Learn from Syntax: DataFrame.rename(mapper=None, index=None, columns=None, axis=None, copy=True, inplace=False, level=None)\n",
    " \n",
    "df_n=df.rename(columns={\"v65201210\":\"allindustries\", \"v65201229\":\"affh\",\"v65201236\":\"mining\",\"v65201263\":\"manufacturing\", \"v65201419\":\"realestate\",\"v65201468\":\"accomfood\"}, inplace=True)"
   ]
  },
  {
   "cell_type": "markdown",
   "metadata": {},
   "source": [
    "## Questions: Why print(df_n) shows nothing?"
   ]
  },
  {
   "cell_type": "code",
   "execution_count": 81,
   "metadata": {},
   "outputs": [
    {
     "name": "stdout",
     "output_type": "stream",
     "text": [
      "None\n",
      "            allindustries        affh       mining  manufacturing  \\\n",
      "REF_DATE                                                            \n",
      "1997-01-01  114625400.00% 2415600.00%  9955800.00%   16547400.00%   \n",
      "1997-02-01  115349300.00% 2401400.00% 10112600.00%   16738900.00%   \n",
      "1997-03-01  115337500.00% 2402000.00% 10219600.00%   16577600.00%   \n",
      "1997-04-01  116119600.00% 2422300.00% 10383500.00%   16841900.00%   \n",
      "1997-05-01  116532800.00% 2423200.00% 10129400.00%   16998800.00%   \n",
      "...                   ...         ...          ...            ...   \n",
      "2019-09-01  197930400.00% 4038600.00% 14564300.00%   20063300.00%   \n",
      "2019-10-01  197712000.00% 4025700.00% 14635900.00%   19887300.00%   \n",
      "2019-11-01  197881000.00% 4010400.00% 14413400.00%   19890300.00%   \n",
      "2019-12-01  198382700.00% 4007200.00% 14611100.00%   19848000.00%   \n",
      "2020-01-01  198669200.00% 4014000.00% 14525700.00%   20006600.00%   \n",
      "\n",
      "             realestate   accomfood  \n",
      "REF_DATE                             \n",
      "1997-01-01 12857500.00% 2736100.00%  \n",
      "1997-02-01 12835000.00% 2762700.00%  \n",
      "1997-03-01 12831200.00% 2769600.00%  \n",
      "1997-04-01 12816400.00% 2780200.00%  \n",
      "1997-05-01 12822300.00% 2787700.00%  \n",
      "...                 ...         ...  \n",
      "2019-09-01 25297400.00% 4482900.00%  \n",
      "2019-10-01 25345200.00% 4482700.00%  \n",
      "2019-11-01 25399400.00% 4500500.00%  \n",
      "2019-12-01 25444000.00% 4497700.00%  \n",
      "2020-01-01 25470400.00% 4478900.00%  \n",
      "\n",
      "[277 rows x 6 columns]\n"
     ]
    }
   ],
   "source": [
    "print(df_n)\n",
    "print(df)"
   ]
  },
  {
   "cell_type": "markdown",
   "metadata": {},
   "source": [
    "## Questions:  How come it does not update to Jan, 2020 - the tables are alredy updated in StatCan's Tables \n",
    "\n",
    "sc.update_tables()\n",
    "#print(df)\n",
    "\n",
    "## Answers : There's a delay, approximately 3 days \n",
    "\n"
   ]
  },
  {
   "cell_type": "code",
   "execution_count": 82,
   "metadata": {
    "scrolled": true
   },
   "outputs": [],
   "source": [
    "# If you don't want to wait, you may extract from THE Table; and in this exercise, all the variables/indicators are from Table: 36-10-0434-01 \n",
    "#url='https://www150.statcan.gc.ca/t1/tbl1/en/tv.action?pid=3610043401'\n",
    "#r=requests.get(url, allow_redirects=True)\n",
    "#df = sc.vectors_to_df([\"v65201210\", \"v65201229\",\"v65201236\",\"v65201263\", \"v65201419\",\"v65201468\"])\n",
    "#print(df)\n"
   ]
  },
  {
   "cell_type": "markdown",
   "metadata": {},
   "source": [
    "## Task 2: Calculate rates \n",
    "a. Year over year \n",
    "b. Month over month \n",
    "c. Percentages -evey 2-digit NAICS over total industry GDP"
   ]
  },
  {
   "cell_type": "code",
   "execution_count": 83,
   "metadata": {},
   "outputs": [
    {
     "data": {
      "text/html": [
       "<div>\n",
       "<style scoped>\n",
       "    .dataframe tbody tr th:only-of-type {\n",
       "        vertical-align: middle;\n",
       "    }\n",
       "\n",
       "    .dataframe tbody tr th {\n",
       "        vertical-align: top;\n",
       "    }\n",
       "\n",
       "    .dataframe thead th {\n",
       "        text-align: right;\n",
       "    }\n",
       "</style>\n",
       "<table border=\"1\" class=\"dataframe\">\n",
       "  <thead>\n",
       "    <tr style=\"text-align: right;\">\n",
       "      <th></th>\n",
       "      <th>allindustries</th>\n",
       "      <th>affh</th>\n",
       "      <th>mining</th>\n",
       "      <th>manufacturing</th>\n",
       "      <th>realestate</th>\n",
       "      <th>accomfood</th>\n",
       "    </tr>\n",
       "    <tr>\n",
       "      <th>REF_DATE</th>\n",
       "      <th></th>\n",
       "      <th></th>\n",
       "      <th></th>\n",
       "      <th></th>\n",
       "      <th></th>\n",
       "      <th></th>\n",
       "    </tr>\n",
       "  </thead>\n",
       "  <tbody>\n",
       "    <tr>\n",
       "      <td>1997-01-01</td>\n",
       "      <td>nan%</td>\n",
       "      <td>nan%</td>\n",
       "      <td>nan%</td>\n",
       "      <td>nan%</td>\n",
       "      <td>nan%</td>\n",
       "      <td>nan%</td>\n",
       "    </tr>\n",
       "    <tr>\n",
       "      <td>1997-02-01</td>\n",
       "      <td>0.63%</td>\n",
       "      <td>-0.59%</td>\n",
       "      <td>1.57%</td>\n",
       "      <td>1.16%</td>\n",
       "      <td>-0.17%</td>\n",
       "      <td>0.97%</td>\n",
       "    </tr>\n",
       "    <tr>\n",
       "      <td>1997-03-01</td>\n",
       "      <td>-0.01%</td>\n",
       "      <td>0.02%</td>\n",
       "      <td>1.06%</td>\n",
       "      <td>-0.96%</td>\n",
       "      <td>-0.03%</td>\n",
       "      <td>0.25%</td>\n",
       "    </tr>\n",
       "    <tr>\n",
       "      <td>1997-04-01</td>\n",
       "      <td>0.68%</td>\n",
       "      <td>0.85%</td>\n",
       "      <td>1.60%</td>\n",
       "      <td>1.59%</td>\n",
       "      <td>-0.12%</td>\n",
       "      <td>0.38%</td>\n",
       "    </tr>\n",
       "    <tr>\n",
       "      <td>1997-05-01</td>\n",
       "      <td>0.36%</td>\n",
       "      <td>0.04%</td>\n",
       "      <td>-2.45%</td>\n",
       "      <td>0.93%</td>\n",
       "      <td>0.05%</td>\n",
       "      <td>0.27%</td>\n",
       "    </tr>\n",
       "    <tr>\n",
       "      <td>...</td>\n",
       "      <td>...</td>\n",
       "      <td>...</td>\n",
       "      <td>...</td>\n",
       "      <td>...</td>\n",
       "      <td>...</td>\n",
       "      <td>...</td>\n",
       "    </tr>\n",
       "    <tr>\n",
       "      <td>2019-09-01</td>\n",
       "      <td>0.02%</td>\n",
       "      <td>-0.62%</td>\n",
       "      <td>-0.58%</td>\n",
       "      <td>-0.38%</td>\n",
       "      <td>0.26%</td>\n",
       "      <td>0.18%</td>\n",
       "    </tr>\n",
       "    <tr>\n",
       "      <td>2019-10-01</td>\n",
       "      <td>-0.11%</td>\n",
       "      <td>-0.32%</td>\n",
       "      <td>0.49%</td>\n",
       "      <td>-0.88%</td>\n",
       "      <td>0.19%</td>\n",
       "      <td>-0.00%</td>\n",
       "    </tr>\n",
       "    <tr>\n",
       "      <td>2019-11-01</td>\n",
       "      <td>0.09%</td>\n",
       "      <td>-0.38%</td>\n",
       "      <td>-1.52%</td>\n",
       "      <td>0.02%</td>\n",
       "      <td>0.21%</td>\n",
       "      <td>0.40%</td>\n",
       "    </tr>\n",
       "    <tr>\n",
       "      <td>2019-12-01</td>\n",
       "      <td>0.25%</td>\n",
       "      <td>-0.08%</td>\n",
       "      <td>1.37%</td>\n",
       "      <td>-0.21%</td>\n",
       "      <td>0.18%</td>\n",
       "      <td>-0.06%</td>\n",
       "    </tr>\n",
       "    <tr>\n",
       "      <td>2020-01-01</td>\n",
       "      <td>0.14%</td>\n",
       "      <td>0.17%</td>\n",
       "      <td>-0.58%</td>\n",
       "      <td>0.80%</td>\n",
       "      <td>0.10%</td>\n",
       "      <td>-0.42%</td>\n",
       "    </tr>\n",
       "  </tbody>\n",
       "</table>\n",
       "<p>277 rows × 6 columns</p>\n",
       "</div>"
      ],
      "text/plain": [
       "            allindustries   affh  mining  manufacturing  realestate  accomfood\n",
       "REF_DATE                                                                      \n",
       "1997-01-01           nan%   nan%    nan%           nan%        nan%       nan%\n",
       "1997-02-01          0.63% -0.59%   1.57%          1.16%      -0.17%      0.97%\n",
       "1997-03-01         -0.01%  0.02%   1.06%         -0.96%      -0.03%      0.25%\n",
       "1997-04-01          0.68%  0.85%   1.60%          1.59%      -0.12%      0.38%\n",
       "1997-05-01          0.36%  0.04%  -2.45%          0.93%       0.05%      0.27%\n",
       "...                   ...    ...     ...            ...         ...        ...\n",
       "2019-09-01          0.02% -0.62%  -0.58%         -0.38%       0.26%      0.18%\n",
       "2019-10-01         -0.11% -0.32%   0.49%         -0.88%       0.19%     -0.00%\n",
       "2019-11-01          0.09% -0.38%  -1.52%          0.02%       0.21%      0.40%\n",
       "2019-12-01          0.25% -0.08%   1.37%         -0.21%       0.18%     -0.06%\n",
       "2020-01-01          0.14%  0.17%  -0.58%          0.80%       0.10%     -0.42%\n",
       "\n",
       "[277 rows x 6 columns]"
      ]
     },
     "execution_count": 83,
     "metadata": {},
     "output_type": "execute_result"
    }
   ],
   "source": [
    "#month over month\n",
    "dfp=df.pct_change() \n",
    "dfp"
   ]
  },
  {
   "cell_type": "markdown",
   "metadata": {},
   "source": [
    "### Task 2-1. Display \"Percentages - % \" : pd.options.display.float_format = '{:.2%}'.format (done)\n"
   ]
  },
  {
   "cell_type": "code",
   "execution_count": 84,
   "metadata": {},
   "outputs": [
    {
     "data": {
      "text/html": [
       "<div>\n",
       "<style scoped>\n",
       "    .dataframe tbody tr th:only-of-type {\n",
       "        vertical-align: middle;\n",
       "    }\n",
       "\n",
       "    .dataframe tbody tr th {\n",
       "        vertical-align: top;\n",
       "    }\n",
       "\n",
       "    .dataframe thead th {\n",
       "        text-align: right;\n",
       "    }\n",
       "</style>\n",
       "<table border=\"1\" class=\"dataframe\">\n",
       "  <thead>\n",
       "    <tr style=\"text-align: right;\">\n",
       "      <th></th>\n",
       "      <th>allindustries</th>\n",
       "      <th>affh</th>\n",
       "      <th>mining</th>\n",
       "      <th>manufacturing</th>\n",
       "      <th>realestate</th>\n",
       "      <th>accomfood</th>\n",
       "    </tr>\n",
       "    <tr>\n",
       "      <th>REF_DATE</th>\n",
       "      <th></th>\n",
       "      <th></th>\n",
       "      <th></th>\n",
       "      <th></th>\n",
       "      <th></th>\n",
       "      <th></th>\n",
       "    </tr>\n",
       "  </thead>\n",
       "  <tbody>\n",
       "    <tr>\n",
       "      <td>1997-01-01</td>\n",
       "      <td>nan%</td>\n",
       "      <td>nan%</td>\n",
       "      <td>nan%</td>\n",
       "      <td>nan%</td>\n",
       "      <td>nan%</td>\n",
       "      <td>nan%</td>\n",
       "    </tr>\n",
       "    <tr>\n",
       "      <td>1997-02-01</td>\n",
       "      <td>0.63%</td>\n",
       "      <td>-0.59%</td>\n",
       "      <td>1.57%</td>\n",
       "      <td>1.16%</td>\n",
       "      <td>-0.17%</td>\n",
       "      <td>0.97%</td>\n",
       "    </tr>\n",
       "    <tr>\n",
       "      <td>1997-03-01</td>\n",
       "      <td>-0.01%</td>\n",
       "      <td>0.02%</td>\n",
       "      <td>1.06%</td>\n",
       "      <td>-0.96%</td>\n",
       "      <td>-0.03%</td>\n",
       "      <td>0.25%</td>\n",
       "    </tr>\n",
       "    <tr>\n",
       "      <td>1997-04-01</td>\n",
       "      <td>0.68%</td>\n",
       "      <td>0.85%</td>\n",
       "      <td>1.60%</td>\n",
       "      <td>1.59%</td>\n",
       "      <td>-0.12%</td>\n",
       "      <td>0.38%</td>\n",
       "    </tr>\n",
       "    <tr>\n",
       "      <td>1997-05-01</td>\n",
       "      <td>0.36%</td>\n",
       "      <td>0.04%</td>\n",
       "      <td>-2.45%</td>\n",
       "      <td>0.93%</td>\n",
       "      <td>0.05%</td>\n",
       "      <td>0.27%</td>\n",
       "    </tr>\n",
       "    <tr>\n",
       "      <td>...</td>\n",
       "      <td>...</td>\n",
       "      <td>...</td>\n",
       "      <td>...</td>\n",
       "      <td>...</td>\n",
       "      <td>...</td>\n",
       "      <td>...</td>\n",
       "    </tr>\n",
       "    <tr>\n",
       "      <td>2019-09-01</td>\n",
       "      <td>0.02%</td>\n",
       "      <td>-0.62%</td>\n",
       "      <td>-0.58%</td>\n",
       "      <td>-0.38%</td>\n",
       "      <td>0.26%</td>\n",
       "      <td>0.18%</td>\n",
       "    </tr>\n",
       "    <tr>\n",
       "      <td>2019-10-01</td>\n",
       "      <td>-0.11%</td>\n",
       "      <td>-0.32%</td>\n",
       "      <td>0.49%</td>\n",
       "      <td>-0.88%</td>\n",
       "      <td>0.19%</td>\n",
       "      <td>-0.00%</td>\n",
       "    </tr>\n",
       "    <tr>\n",
       "      <td>2019-11-01</td>\n",
       "      <td>0.09%</td>\n",
       "      <td>-0.38%</td>\n",
       "      <td>-1.52%</td>\n",
       "      <td>0.02%</td>\n",
       "      <td>0.21%</td>\n",
       "      <td>0.40%</td>\n",
       "    </tr>\n",
       "    <tr>\n",
       "      <td>2019-12-01</td>\n",
       "      <td>0.25%</td>\n",
       "      <td>-0.08%</td>\n",
       "      <td>1.37%</td>\n",
       "      <td>-0.21%</td>\n",
       "      <td>0.18%</td>\n",
       "      <td>-0.06%</td>\n",
       "    </tr>\n",
       "    <tr>\n",
       "      <td>2020-01-01</td>\n",
       "      <td>0.14%</td>\n",
       "      <td>0.17%</td>\n",
       "      <td>-0.58%</td>\n",
       "      <td>0.80%</td>\n",
       "      <td>0.10%</td>\n",
       "      <td>-0.42%</td>\n",
       "    </tr>\n",
       "  </tbody>\n",
       "</table>\n",
       "<p>277 rows × 6 columns</p>\n",
       "</div>"
      ],
      "text/plain": [
       "            allindustries   affh  mining  manufacturing  realestate  accomfood\n",
       "REF_DATE                                                                      \n",
       "1997-01-01           nan%   nan%    nan%           nan%        nan%       nan%\n",
       "1997-02-01          0.63% -0.59%   1.57%          1.16%      -0.17%      0.97%\n",
       "1997-03-01         -0.01%  0.02%   1.06%         -0.96%      -0.03%      0.25%\n",
       "1997-04-01          0.68%  0.85%   1.60%          1.59%      -0.12%      0.38%\n",
       "1997-05-01          0.36%  0.04%  -2.45%          0.93%       0.05%      0.27%\n",
       "...                   ...    ...     ...            ...         ...        ...\n",
       "2019-09-01          0.02% -0.62%  -0.58%         -0.38%       0.26%      0.18%\n",
       "2019-10-01         -0.11% -0.32%   0.49%         -0.88%       0.19%     -0.00%\n",
       "2019-11-01          0.09% -0.38%  -1.52%          0.02%       0.21%      0.40%\n",
       "2019-12-01          0.25% -0.08%   1.37%         -0.21%       0.18%     -0.06%\n",
       "2020-01-01          0.14%  0.17%  -0.58%          0.80%       0.10%     -0.42%\n",
       "\n",
       "[277 rows x 6 columns]"
      ]
     },
     "execution_count": 84,
     "metadata": {},
     "output_type": "execute_result"
    }
   ],
   "source": [
    "pd.options.display.float_format = '{:.2%}'.format\n",
    "dfp"
   ]
  },
  {
   "cell_type": "markdown",
   "metadata": {},
   "source": [
    "## Questions: However, it also changed the format of GDP value above, which should maintain the value format."
   ]
  },
  {
   "cell_type": "markdown",
   "metadata": {},
   "source": [
    "## Tomorrow's Tasks (Task 2- series)\n",
    "2. Calculate annual average based on monthly data; and then compare with annual data table\n",
    "3. Year over year \n",
    "4. Calculate\" Percentages -evey 2-digit NAICS over total industry GDP\" - using monthly data first\n",
    "5. #I just want to check certain months/years \n",
    "   dfp[\"2018\"] \n",
    "   \n",
    "   however it can only show one year at a time...\n"
   ]
  },
  {
   "cell_type": "markdown",
   "metadata": {},
   "source": [
    "## Taks2-2 \n",
    "\n",
    "### You can do 12-month average, because the variables in Table 36-10-0434-01 are already \"Seasonally adjusted at annual rates, Chained (2012) dollars\"\n",
    "\n",
    "https://stackoverflow.com/questions/45205423/find-annual-average-of-pandas-dataframe-with-date-column\n",
    "\n",
    "      As I need to tell Python to calculate annual averages base on monthly data - I should give \"REF DATE\" colum a name FIRST? "
   ]
  },
  {
   "cell_type": "code",
   "execution_count": 85,
   "metadata": {},
   "outputs": [],
   "source": [
    "#df.columns = [\"date\",\"a\",\"b\",\"c\",\"d\",\"e\",\"f\"]\n",
    "### kk confirmed, the \"REF DATE\" is not a variable/column --> error message\"Length mismatch: Expected axis has 1 elements, new values have 7 elements\"\n"
   ]
  },
  {
   "cell_type": "markdown",
   "metadata": {},
   "source": [
    "## Questions: How to extract or create dates that associate/match variables of interest? \n",
    "\n",
    "## Answers: Arun suggested the REF DATE is actually a row index; you would need to convert it into  a column, and then make it \"date\" format..."
   ]
  },
  {
   "cell_type": "code",
   "execution_count": 86,
   "metadata": {},
   "outputs": [],
   "source": [
    "df['date']=df.index.values"
   ]
  },
  {
   "cell_type": "code",
   "execution_count": 87,
   "metadata": {},
   "outputs": [
    {
     "data": {
      "text/plain": [
       "Timestamp('1997-01-01 00:00:00')"
      ]
     },
     "execution_count": 87,
     "metadata": {},
     "output_type": "execute_result"
    }
   ],
   "source": [
    "df['date'][0]"
   ]
  },
  {
   "cell_type": "code",
   "execution_count": 88,
   "metadata": {},
   "outputs": [
    {
     "name": "stdout",
     "output_type": "stream",
     "text": [
      "REF_DATE\n",
      "1997-01-01   1997-01-01\n",
      "1997-02-01   1997-02-01\n",
      "1997-03-01   1997-03-01\n",
      "1997-04-01   1997-04-01\n",
      "1997-05-01   1997-05-01\n",
      "                ...    \n",
      "2019-09-01   2019-09-01\n",
      "2019-10-01   2019-10-01\n",
      "2019-11-01   2019-11-01\n",
      "2019-12-01   2019-12-01\n",
      "2020-01-01   2020-01-01\n",
      "Name: date, Length: 277, dtype: datetime64[ns]\n"
     ]
    }
   ],
   "source": [
    "print(df['date'])\n",
    "# the index \"REF_DATE\" is still there\n",
    "\n",
    "# How can you make the \"date\" column as index? "
   ]
  },
  {
   "cell_type": "markdown",
   "metadata": {},
   "source": [
    "Learning from https://pandas.pydata.org/pandas-docs/stable/reference/api/pandas.to_datetime.html "
   ]
  },
  {
   "cell_type": "code",
   "execution_count": 89,
   "metadata": {},
   "outputs": [
    {
     "name": "stdout",
     "output_type": "stream",
     "text": [
      "REF_DATE\n",
      "1997-01-01   1997-01-01\n",
      "1997-02-01   1997-02-01\n",
      "1997-03-01   1997-03-01\n",
      "1997-04-01   1997-04-01\n",
      "1997-05-01   1997-05-01\n",
      "                ...    \n",
      "2019-09-01   2019-09-01\n",
      "2019-10-01   2019-10-01\n",
      "2019-11-01   2019-11-01\n",
      "2019-12-01   2019-12-01\n",
      "2020-01-01   2020-01-01\n",
      "Name: date, Length: 277, dtype: datetime64[ns]\n"
     ]
    }
   ],
   "source": [
    "df[\"date\"]=pd.to_datetime(df[\"date\"],format='%M/%Y')\n",
    "print(df['date'])\n",
    "\n",
    "## ???? the format doesn't work :("
   ]
  },
  {
   "cell_type": "code",
   "execution_count": 90,
   "metadata": {},
   "outputs": [
    {
     "name": "stdout",
     "output_type": "stream",
     "text": [
      "<class 'pandas.core.series.Series'>\n",
      "<class 'str'>\n",
      "REF_DATE\n",
      "1997-01-01   1997-01-01\n",
      "1997-02-01   1997-02-01\n",
      "1997-03-01   1997-03-01\n",
      "1997-04-01   1997-04-01\n",
      "1997-05-01   1997-05-01\n",
      "                ...    \n",
      "2019-09-01   2019-09-01\n",
      "2019-10-01   2019-10-01\n",
      "2019-11-01   2019-11-01\n",
      "2019-12-01   2019-12-01\n",
      "2020-01-01   2020-01-01\n",
      "Name: date, Length: 277, dtype: datetime64[ns]\n"
     ]
    }
   ],
   "source": [
    "## ????? Why the type is different? \n",
    "print(type(df['date']))\n",
    "print(type('date'))\n",
    "print(df['date'])"
   ]
  },
  {
   "cell_type": "code",
   "execution_count": 99,
   "metadata": {},
   "outputs": [],
   "source": [
    "## KK, just a quick fix, will come back\n",
    "pd.options.display.float_format = '{:}'.format"
   ]
  },
  {
   "cell_type": "markdown",
   "metadata": {},
   "source": [
    " Learning from  https://pandas.pydata.org/pandas-docs/stable/reference/api/pandas.DataFrame.set_index.html  "
   ]
  },
  {
   "cell_type": "code",
   "execution_count": 100,
   "metadata": {},
   "outputs": [
    {
     "ename": "KeyError",
     "evalue": "\"None of ['date'] are in the columns\"",
     "output_type": "error",
     "traceback": [
      "\u001b[1;31m---------------------------------------------------------------------------\u001b[0m",
      "\u001b[1;31mKeyError\u001b[0m                                  Traceback (most recent call last)",
      "\u001b[1;32m<ipython-input-100-63327ed3cbf9>\u001b[0m in \u001b[0;36m<module>\u001b[1;34m\u001b[0m\n\u001b[1;32m----> 1\u001b[1;33m \u001b[0mdf\u001b[0m\u001b[1;33m=\u001b[0m\u001b[0mdf\u001b[0m\u001b[1;33m.\u001b[0m\u001b[0mset_index\u001b[0m\u001b[1;33m(\u001b[0m\u001b[1;34m'date'\u001b[0m\u001b[1;33m)\u001b[0m\u001b[1;33m\u001b[0m\u001b[1;33m\u001b[0m\u001b[0m\n\u001b[0m\u001b[0;32m      2\u001b[0m \u001b[0mprint\u001b[0m\u001b[1;33m(\u001b[0m\u001b[0mdf\u001b[0m\u001b[1;33m)\u001b[0m\u001b[1;33m\u001b[0m\u001b[1;33m\u001b[0m\u001b[0m\n",
      "\u001b[1;32m~\\AppData\\Local\\Continuum\\anaconda3\\lib\\site-packages\\pandas\\core\\frame.py\u001b[0m in \u001b[0;36mset_index\u001b[1;34m(self, keys, drop, append, inplace, verify_integrity)\u001b[0m\n\u001b[0;32m   4394\u001b[0m \u001b[1;33m\u001b[0m\u001b[0m\n\u001b[0;32m   4395\u001b[0m         \u001b[1;32mif\u001b[0m \u001b[0mmissing\u001b[0m\u001b[1;33m:\u001b[0m\u001b[1;33m\u001b[0m\u001b[1;33m\u001b[0m\u001b[0m\n\u001b[1;32m-> 4396\u001b[1;33m             \u001b[1;32mraise\u001b[0m \u001b[0mKeyError\u001b[0m\u001b[1;33m(\u001b[0m\u001b[1;34m\"None of {} are in the columns\"\u001b[0m\u001b[1;33m.\u001b[0m\u001b[0mformat\u001b[0m\u001b[1;33m(\u001b[0m\u001b[0mmissing\u001b[0m\u001b[1;33m)\u001b[0m\u001b[1;33m)\u001b[0m\u001b[1;33m\u001b[0m\u001b[1;33m\u001b[0m\u001b[0m\n\u001b[0m\u001b[0;32m   4397\u001b[0m \u001b[1;33m\u001b[0m\u001b[0m\n\u001b[0;32m   4398\u001b[0m         \u001b[1;32mif\u001b[0m \u001b[0minplace\u001b[0m\u001b[1;33m:\u001b[0m\u001b[1;33m\u001b[0m\u001b[1;33m\u001b[0m\u001b[0m\n",
      "\u001b[1;31mKeyError\u001b[0m: \"None of ['date'] are in the columns\""
     ]
    }
   ],
   "source": [
    "df=df.set_index('date')\n",
    "print(df)"
   ]
  },
  {
   "cell_type": "code",
   "execution_count": 101,
   "metadata": {},
   "outputs": [],
   "source": [
    "df_a=df.groupby('date')['allindustries','affh'].transform('mean')"
   ]
  },
  {
   "cell_type": "code",
   "execution_count": 102,
   "metadata": {},
   "outputs": [
    {
     "data": {
      "text/html": [
       "<div>\n",
       "<style scoped>\n",
       "    .dataframe tbody tr th:only-of-type {\n",
       "        vertical-align: middle;\n",
       "    }\n",
       "\n",
       "    .dataframe tbody tr th {\n",
       "        vertical-align: top;\n",
       "    }\n",
       "\n",
       "    .dataframe thead th {\n",
       "        text-align: right;\n",
       "    }\n",
       "</style>\n",
       "<table border=\"1\" class=\"dataframe\">\n",
       "  <thead>\n",
       "    <tr style=\"text-align: right;\">\n",
       "      <th></th>\n",
       "      <th>allindustries</th>\n",
       "      <th>affh</th>\n",
       "    </tr>\n",
       "    <tr>\n",
       "      <th>date</th>\n",
       "      <th></th>\n",
       "      <th></th>\n",
       "    </tr>\n",
       "  </thead>\n",
       "  <tbody>\n",
       "    <tr>\n",
       "      <td>1997-01-01</td>\n",
       "      <td>1146254.0</td>\n",
       "      <td>24156.0</td>\n",
       "    </tr>\n",
       "    <tr>\n",
       "      <td>1997-02-01</td>\n",
       "      <td>1153493.0</td>\n",
       "      <td>24014.0</td>\n",
       "    </tr>\n",
       "    <tr>\n",
       "      <td>1997-03-01</td>\n",
       "      <td>1153375.0</td>\n",
       "      <td>24020.0</td>\n",
       "    </tr>\n",
       "    <tr>\n",
       "      <td>1997-04-01</td>\n",
       "      <td>1161196.0</td>\n",
       "      <td>24223.0</td>\n",
       "    </tr>\n",
       "    <tr>\n",
       "      <td>1997-05-01</td>\n",
       "      <td>1165328.0</td>\n",
       "      <td>24232.0</td>\n",
       "    </tr>\n",
       "    <tr>\n",
       "      <td>...</td>\n",
       "      <td>...</td>\n",
       "      <td>...</td>\n",
       "    </tr>\n",
       "    <tr>\n",
       "      <td>2019-09-01</td>\n",
       "      <td>1979304.0</td>\n",
       "      <td>40386.0</td>\n",
       "    </tr>\n",
       "    <tr>\n",
       "      <td>2019-10-01</td>\n",
       "      <td>1977120.0</td>\n",
       "      <td>40257.0</td>\n",
       "    </tr>\n",
       "    <tr>\n",
       "      <td>2019-11-01</td>\n",
       "      <td>1978810.0</td>\n",
       "      <td>40104.0</td>\n",
       "    </tr>\n",
       "    <tr>\n",
       "      <td>2019-12-01</td>\n",
       "      <td>1983827.0</td>\n",
       "      <td>40072.0</td>\n",
       "    </tr>\n",
       "    <tr>\n",
       "      <td>2020-01-01</td>\n",
       "      <td>1986692.0</td>\n",
       "      <td>40140.0</td>\n",
       "    </tr>\n",
       "  </tbody>\n",
       "</table>\n",
       "<p>277 rows × 2 columns</p>\n",
       "</div>"
      ],
      "text/plain": [
       "            allindustries    affh\n",
       "date                             \n",
       "1997-01-01      1146254.0 24156.0\n",
       "1997-02-01      1153493.0 24014.0\n",
       "1997-03-01      1153375.0 24020.0\n",
       "1997-04-01      1161196.0 24223.0\n",
       "1997-05-01      1165328.0 24232.0\n",
       "...                   ...     ...\n",
       "2019-09-01      1979304.0 40386.0\n",
       "2019-10-01      1977120.0 40257.0\n",
       "2019-11-01      1978810.0 40104.0\n",
       "2019-12-01      1983827.0 40072.0\n",
       "2020-01-01      1986692.0 40140.0\n",
       "\n",
       "[277 rows x 2 columns]"
      ]
     },
     "execution_count": 102,
     "metadata": {},
     "output_type": "execute_result"
    }
   ],
   "source": [
    "df_a\n",
    "##.... doesn't work :("
   ]
  },
  {
   "cell_type": "code",
   "execution_count": null,
   "metadata": {},
   "outputs": [],
   "source": []
  }
 ],
 "metadata": {
  "kernelspec": {
   "display_name": "Python 3",
   "language": "python",
   "name": "python3"
  },
  "language_info": {
   "codemirror_mode": {
    "name": "ipython",
    "version": 3
   },
   "file_extension": ".py",
   "mimetype": "text/x-python",
   "name": "python",
   "nbconvert_exporter": "python",
   "pygments_lexer": "ipython3",
   "version": "3.7.4"
  }
 },
 "nbformat": 4,
 "nbformat_minor": 2
}
